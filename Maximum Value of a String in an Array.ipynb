{
 "cells": [
  {
   "cell_type": "markdown",
   "metadata": {},
   "source": [
    "The value of an alphanumeric string can be defined as:\n",
    "\n",
    "The numeric representation of the string in base 10, if it comprises of digits only.\n",
    "The length of the string, otherwise.\n",
    "Given an array strs of alphanumeric strings, return the maximum value of any string in strs.\n",
    "\n",
    " \n",
    "\n",
    "Example 1:\n",
    "\n",
    "Input: strs = [\"alic3\",\"bob\",\"3\",\"4\",\"00000\"]\n",
    "Output: 5\n",
    "Explanation: \n",
    "- \"alic3\" consists of both letters and digits, so its value is its length, i.e. 5.\n",
    "- \"bob\" consists only of letters, so its value is also its length, i.e. 3.\n",
    "- \"3\" consists only of digits, so its value is its numeric equivalent, i.e. 3.\n",
    "- \"4\" also consists only of digits, so its value is 4.\n",
    "- \"00000\" consists only of digits, so its value is 0.\n",
    "Hence, the maximum value is 5, of \"alic3\".\n",
    "Example 2:\n",
    "\n",
    "Input: strs = [\"1\",\"01\",\"001\",\"0001\"]\n",
    "Output: 1\n",
    "Explanation: \n",
    "Each string in the array has value 1. Hence, we return 1.\n",
    " \n",
    "\n",
    "Constraints:\n",
    "\n",
    "1 <= strs.length <= 100\n",
    "1 <= strs[i].length <= 9\n",
    "strs[i] consists of only lowercase English letters and digits."
   ]
  },
  {
   "cell_type": "code",
   "execution_count": 1,
   "metadata": {},
   "outputs": [],
   "source": [
    "class Solution(object):\n",
    "    def maximumValue(self, strs):\n",
    "        \"\"\"\n",
    "        :type strs: List[str]\n",
    "        :rtype: int\n",
    "        \"\"\"\n",
    "\n",
    "        res = 0\n",
    "        curr_max = 0\n",
    "\n",
    "        for s in strs:\n",
    "            if s.isdigit():\n",
    "                curr_max = int(s)\n",
    "            else:\n",
    "                curr_max = len(s)\n",
    "\n",
    "            res = max(curr_max, res)\n",
    "        return res\n",
    "solution = Solution()"
   ]
  }
 ],
 "metadata": {
  "kernelspec": {
   "display_name": "Python 3",
   "language": "python",
   "name": "python3"
  },
  "language_info": {
   "codemirror_mode": {
    "name": "ipython",
    "version": 3
   },
   "file_extension": ".py",
   "mimetype": "text/x-python",
   "name": "python",
   "nbconvert_exporter": "python",
   "pygments_lexer": "ipython3",
   "version": "3.8.5"
  }
 },
 "nbformat": 4,
 "nbformat_minor": 4
}
