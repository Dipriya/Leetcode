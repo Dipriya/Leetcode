{
 "cells": [
  {
   "cell_type": "markdown",
   "metadata": {},
   "source": [
    "Given an integer array nums, find a \n",
    "subarray\n",
    " that has the largest product, and return the product.\n",
    "\n",
    "The test cases are generated so that the answer will fit in a 32-bit integer.\n",
    "\n",
    " \n",
    "\n",
    "Example 1:\n",
    "\n",
    "Input: nums = [2,3,-2,4]\n",
    "Output: 6\n",
    "Explanation: [2,3] has the largest product 6.\n",
    "Example 2:\n",
    "\n",
    "Input: nums = [-2,0,-1]\n",
    "Output: 0\n",
    "Explanation: The result cannot be 2, because [-2,-1] is not a subarray.\n",
    " \n",
    "\n",
    "Constraints:\n",
    "\n",
    "1 <= nums.length <= 2 * 104\n",
    "-10 <= nums[i] <= 10\n",
    "The product of any prefix or suffix of nums is guaranteed to fit in a 32-bit integer."
   ]
  },
  {
   "cell_type": "code",
   "execution_count": null,
   "metadata": {},
   "outputs": [],
   "source": [
    "class Solution(object):\n",
    "    def maxProduct(self, nums):\n",
    "        \"\"\"\n",
    "        :type nums: List[int]\n",
    "        :rtype: int\n",
    "        \"\"\"\n",
    "\n",
    "        res = max(nums)\n",
    "        curr_max = 1\n",
    "        curr_min = 1\n",
    "\n",
    "        for n in nums:\n",
    "            if n == 0:\n",
    "                curr_max = 1\n",
    "                curr_min = 1\n",
    "                continue\n",
    "\n",
    "            temp = n*curr_max    \n",
    "            curr_max = max(temp, n*curr_min, n)\n",
    "            curr_min = min(temp, n*curr_min, n)\n",
    "            res = max(curr_max, res)\n",
    "        return res    \n",
    "solution = Solution()"
   ]
  }
 ],
 "metadata": {
  "kernelspec": {
   "display_name": "Python 3",
   "language": "python",
   "name": "python3"
  },
  "language_info": {
   "codemirror_mode": {
    "name": "ipython",
    "version": 3
   },
   "file_extension": ".py",
   "mimetype": "text/x-python",
   "name": "python",
   "nbconvert_exporter": "python",
   "pygments_lexer": "ipython3",
   "version": "3.8.5"
  }
 },
 "nbformat": 4,
 "nbformat_minor": 4
}
